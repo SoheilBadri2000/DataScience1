{
  "nbformat": 4,
  "nbformat_minor": 0,
  "metadata": {
    "colab": {
      "provenance": [],
      "authorship_tag": "ABX9TyNXulnva6uSdbYq6x3G9rCX",
      "include_colab_link": true
    },
    "kernelspec": {
      "name": "python3",
      "display_name": "Python 3"
    },
    "language_info": {
      "name": "python"
    }
  },
  "cells": [
    {
      "cell_type": "markdown",
      "metadata": {
        "id": "view-in-github",
        "colab_type": "text"
      },
      "source": [
        "<a href=\"https://colab.research.google.com/github/SoheilBadri2000/DataScience1/blob/main/6.ipynb\" target=\"_parent\"><img src=\"https://colab.research.google.com/assets/colab-badge.svg\" alt=\"Open In Colab\"/></a>"
      ]
    },
    {
      "cell_type": "markdown",
      "source": [
        "# Logistic Regression (iphone_purchase)"
      ],
      "metadata": {
        "id": "lYu5u7jumYeM"
      }
    },
    {
      "cell_type": "code",
      "source": [
        "import pandas as pd\n",
        "import numpy as np\n",
        "from sklearn.preprocessing import LabelEncoder, StandardScaler\n",
        "from sklearn.model_selection import train_test_split\n",
        "from sklearn.linear_model import LogisticRegression"
      ],
      "metadata": {
        "id": "RvaGD9OumTJO"
      },
      "execution_count": null,
      "outputs": []
    },
    {
      "cell_type": "code",
      "source": [
        "!gdown --id  1sFVv1Q1OvysqRGD0IRCoosbDSHg_w4-p"
      ],
      "metadata": {
        "colab": {
          "base_uri": "https://localhost:8080/"
        },
        "id": "qiVWk-WVmJda",
        "outputId": "580db448-66b0-464f-e3e3-ecb64e0a6c45"
      },
      "execution_count": null,
      "outputs": [
        {
          "output_type": "stream",
          "name": "stdout",
          "text": [
            "/usr/local/lib/python3.10/dist-packages/gdown/cli.py:121: FutureWarning: Option `--id` was deprecated in version 4.3.1 and will be removed in 5.0. You don't need to pass it anymore to use a file ID.\n",
            "  warnings.warn(\n",
            "Downloading...\n",
            "From: https://drive.google.com/uc?id=1sFVv1Q1OvysqRGD0IRCoosbDSHg_w4-p\n",
            "To: /content/iphone_purchase_records.csv\n",
            "100% 7.32k/7.32k [00:00<00:00, 30.7MB/s]\n"
          ]
        }
      ]
    },
    {
      "cell_type": "code",
      "source": [
        "# Step 1 - Load Data\n",
        "dataset = pd.read_csv(\"iphone_purchase_records.csv\")\n",
        "dataset.sample(5)"
      ],
      "metadata": {
        "colab": {
          "base_uri": "https://localhost:8080/",
          "height": 206
        },
        "id": "rCpWEosOnFHE",
        "outputId": "2168a189-9482-4a78-e46f-244629f40ec3"
      },
      "execution_count": null,
      "outputs": [
        {
          "output_type": "execute_result",
          "data": {
            "text/plain": [
              "     Gender  Age  Salary  Purchase Iphone\n",
              "362  Female   47   50000                1\n",
              "24     Male   46   23000                1\n",
              "259  Female   45  131000                1\n",
              "133  Female   21   68000                0\n",
              "14     Male   18   82000                0"
            ],
            "text/html": [
              "\n",
              "  <div id=\"df-0381bcc3-01eb-4a8c-8c7e-799d83727bba\" class=\"colab-df-container\">\n",
              "    <div>\n",
              "<style scoped>\n",
              "    .dataframe tbody tr th:only-of-type {\n",
              "        vertical-align: middle;\n",
              "    }\n",
              "\n",
              "    .dataframe tbody tr th {\n",
              "        vertical-align: top;\n",
              "    }\n",
              "\n",
              "    .dataframe thead th {\n",
              "        text-align: right;\n",
              "    }\n",
              "</style>\n",
              "<table border=\"1\" class=\"dataframe\">\n",
              "  <thead>\n",
              "    <tr style=\"text-align: right;\">\n",
              "      <th></th>\n",
              "      <th>Gender</th>\n",
              "      <th>Age</th>\n",
              "      <th>Salary</th>\n",
              "      <th>Purchase Iphone</th>\n",
              "    </tr>\n",
              "  </thead>\n",
              "  <tbody>\n",
              "    <tr>\n",
              "      <th>362</th>\n",
              "      <td>Female</td>\n",
              "      <td>47</td>\n",
              "      <td>50000</td>\n",
              "      <td>1</td>\n",
              "    </tr>\n",
              "    <tr>\n",
              "      <th>24</th>\n",
              "      <td>Male</td>\n",
              "      <td>46</td>\n",
              "      <td>23000</td>\n",
              "      <td>1</td>\n",
              "    </tr>\n",
              "    <tr>\n",
              "      <th>259</th>\n",
              "      <td>Female</td>\n",
              "      <td>45</td>\n",
              "      <td>131000</td>\n",
              "      <td>1</td>\n",
              "    </tr>\n",
              "    <tr>\n",
              "      <th>133</th>\n",
              "      <td>Female</td>\n",
              "      <td>21</td>\n",
              "      <td>68000</td>\n",
              "      <td>0</td>\n",
              "    </tr>\n",
              "    <tr>\n",
              "      <th>14</th>\n",
              "      <td>Male</td>\n",
              "      <td>18</td>\n",
              "      <td>82000</td>\n",
              "      <td>0</td>\n",
              "    </tr>\n",
              "  </tbody>\n",
              "</table>\n",
              "</div>\n",
              "    <div class=\"colab-df-buttons\">\n",
              "\n",
              "  <div class=\"colab-df-container\">\n",
              "    <button class=\"colab-df-convert\" onclick=\"convertToInteractive('df-0381bcc3-01eb-4a8c-8c7e-799d83727bba')\"\n",
              "            title=\"Convert this dataframe to an interactive table.\"\n",
              "            style=\"display:none;\">\n",
              "\n",
              "  <svg xmlns=\"http://www.w3.org/2000/svg\" height=\"24px\" viewBox=\"0 -960 960 960\">\n",
              "    <path d=\"M120-120v-720h720v720H120Zm60-500h600v-160H180v160Zm220 220h160v-160H400v160Zm0 220h160v-160H400v160ZM180-400h160v-160H180v160Zm440 0h160v-160H620v160ZM180-180h160v-160H180v160Zm440 0h160v-160H620v160Z\"/>\n",
              "  </svg>\n",
              "    </button>\n",
              "\n",
              "  <style>\n",
              "    .colab-df-container {\n",
              "      display:flex;\n",
              "      gap: 12px;\n",
              "    }\n",
              "\n",
              "    .colab-df-convert {\n",
              "      background-color: #E8F0FE;\n",
              "      border: none;\n",
              "      border-radius: 50%;\n",
              "      cursor: pointer;\n",
              "      display: none;\n",
              "      fill: #1967D2;\n",
              "      height: 32px;\n",
              "      padding: 0 0 0 0;\n",
              "      width: 32px;\n",
              "    }\n",
              "\n",
              "    .colab-df-convert:hover {\n",
              "      background-color: #E2EBFA;\n",
              "      box-shadow: 0px 1px 2px rgba(60, 64, 67, 0.3), 0px 1px 3px 1px rgba(60, 64, 67, 0.15);\n",
              "      fill: #174EA6;\n",
              "    }\n",
              "\n",
              "    .colab-df-buttons div {\n",
              "      margin-bottom: 4px;\n",
              "    }\n",
              "\n",
              "    [theme=dark] .colab-df-convert {\n",
              "      background-color: #3B4455;\n",
              "      fill: #D2E3FC;\n",
              "    }\n",
              "\n",
              "    [theme=dark] .colab-df-convert:hover {\n",
              "      background-color: #434B5C;\n",
              "      box-shadow: 0px 1px 3px 1px rgba(0, 0, 0, 0.15);\n",
              "      filter: drop-shadow(0px 1px 2px rgba(0, 0, 0, 0.3));\n",
              "      fill: #FFFFFF;\n",
              "    }\n",
              "  </style>\n",
              "\n",
              "    <script>\n",
              "      const buttonEl =\n",
              "        document.querySelector('#df-0381bcc3-01eb-4a8c-8c7e-799d83727bba button.colab-df-convert');\n",
              "      buttonEl.style.display =\n",
              "        google.colab.kernel.accessAllowed ? 'block' : 'none';\n",
              "\n",
              "      async function convertToInteractive(key) {\n",
              "        const element = document.querySelector('#df-0381bcc3-01eb-4a8c-8c7e-799d83727bba');\n",
              "        const dataTable =\n",
              "          await google.colab.kernel.invokeFunction('convertToInteractive',\n",
              "                                                    [key], {});\n",
              "        if (!dataTable) return;\n",
              "\n",
              "        const docLinkHtml = 'Like what you see? Visit the ' +\n",
              "          '<a target=\"_blank\" href=https://colab.research.google.com/notebooks/data_table.ipynb>data table notebook</a>'\n",
              "          + ' to learn more about interactive tables.';\n",
              "        element.innerHTML = '';\n",
              "        dataTable['output_type'] = 'display_data';\n",
              "        await google.colab.output.renderOutput(dataTable, element);\n",
              "        const docLink = document.createElement('div');\n",
              "        docLink.innerHTML = docLinkHtml;\n",
              "        element.appendChild(docLink);\n",
              "      }\n",
              "    </script>\n",
              "  </div>\n",
              "\n",
              "\n",
              "<div id=\"df-bb94dd9f-f1c8-4b09-a54c-cdbe46051a9c\">\n",
              "  <button class=\"colab-df-quickchart\" onclick=\"quickchart('df-bb94dd9f-f1c8-4b09-a54c-cdbe46051a9c')\"\n",
              "            title=\"Suggest charts.\"\n",
              "            style=\"display:none;\">\n",
              "\n",
              "<svg xmlns=\"http://www.w3.org/2000/svg\" height=\"24px\"viewBox=\"0 0 24 24\"\n",
              "     width=\"24px\">\n",
              "    <g>\n",
              "        <path d=\"M19 3H5c-1.1 0-2 .9-2 2v14c0 1.1.9 2 2 2h14c1.1 0 2-.9 2-2V5c0-1.1-.9-2-2-2zM9 17H7v-7h2v7zm4 0h-2V7h2v10zm4 0h-2v-4h2v4z\"/>\n",
              "    </g>\n",
              "</svg>\n",
              "  </button>\n",
              "\n",
              "<style>\n",
              "  .colab-df-quickchart {\n",
              "    background-color: #E8F0FE;\n",
              "    border: none;\n",
              "    border-radius: 50%;\n",
              "    cursor: pointer;\n",
              "    display: none;\n",
              "    fill: #1967D2;\n",
              "    height: 32px;\n",
              "    padding: 0 0 0 0;\n",
              "    width: 32px;\n",
              "  }\n",
              "\n",
              "  .colab-df-quickchart:hover {\n",
              "    background-color: #E2EBFA;\n",
              "    box-shadow: 0px 1px 2px rgba(60, 64, 67, 0.3), 0px 1px 3px 1px rgba(60, 64, 67, 0.15);\n",
              "    fill: #174EA6;\n",
              "  }\n",
              "\n",
              "  [theme=dark] .colab-df-quickchart {\n",
              "    background-color: #3B4455;\n",
              "    fill: #D2E3FC;\n",
              "  }\n",
              "\n",
              "  [theme=dark] .colab-df-quickchart:hover {\n",
              "    background-color: #434B5C;\n",
              "    box-shadow: 0px 1px 3px 1px rgba(0, 0, 0, 0.15);\n",
              "    filter: drop-shadow(0px 1px 2px rgba(0, 0, 0, 0.3));\n",
              "    fill: #FFFFFF;\n",
              "  }\n",
              "</style>\n",
              "\n",
              "  <script>\n",
              "    async function quickchart(key) {\n",
              "      const charts = await google.colab.kernel.invokeFunction(\n",
              "          'suggestCharts', [key], {});\n",
              "    }\n",
              "    (() => {\n",
              "      let quickchartButtonEl =\n",
              "        document.querySelector('#df-bb94dd9f-f1c8-4b09-a54c-cdbe46051a9c button');\n",
              "      quickchartButtonEl.style.display =\n",
              "        google.colab.kernel.accessAllowed ? 'block' : 'none';\n",
              "    })();\n",
              "  </script>\n",
              "</div>\n",
              "    </div>\n",
              "  </div>\n"
            ]
          },
          "metadata": {},
          "execution_count": 17
        }
      ]
    },
    {
      "cell_type": "code",
      "source": [
        "dataset.isnull().sum()"
      ],
      "metadata": {
        "colab": {
          "base_uri": "https://localhost:8080/"
        },
        "id": "wYpjUc60ngGV",
        "outputId": "ff7775e1-ebc5-44b4-8155-ccd5b4ce4071"
      },
      "execution_count": null,
      "outputs": [
        {
          "output_type": "execute_result",
          "data": {
            "text/plain": [
              "Gender             0\n",
              "Age                0\n",
              "Salary             0\n",
              "Purchase Iphone    0\n",
              "dtype: int64"
            ]
          },
          "metadata": {},
          "execution_count": 18
        }
      ]
    },
    {
      "cell_type": "code",
      "source": [
        "dataset.info()"
      ],
      "metadata": {
        "colab": {
          "base_uri": "https://localhost:8080/"
        },
        "id": "-oIMhvl6nyZS",
        "outputId": "10c1089e-c19f-4b90-cde9-dbbce4d08577"
      },
      "execution_count": null,
      "outputs": [
        {
          "output_type": "stream",
          "name": "stdout",
          "text": [
            "<class 'pandas.core.frame.DataFrame'>\n",
            "RangeIndex: 400 entries, 0 to 399\n",
            "Data columns (total 4 columns):\n",
            " #   Column           Non-Null Count  Dtype \n",
            "---  ------           --------------  ----- \n",
            " 0   Gender           400 non-null    object\n",
            " 1   Age              400 non-null    int64 \n",
            " 2   Salary           400 non-null    int64 \n",
            " 3   Purchase Iphone  400 non-null    int64 \n",
            "dtypes: int64(3), object(1)\n",
            "memory usage: 12.6+ KB\n"
          ]
        }
      ]
    },
    {
      "cell_type": "code",
      "source": [
        "X = dataset.iloc[:, :-1].values\n",
        "y = dataset.iloc[:, -1].values\n",
        "print(X[:4, :])"
      ],
      "metadata": {
        "colab": {
          "base_uri": "https://localhost:8080/"
        },
        "id": "0OsAmcjwn5D1",
        "outputId": "6e1cb699-e2d0-46a2-a544-d638975c7426"
      },
      "execution_count": null,
      "outputs": [
        {
          "output_type": "stream",
          "name": "stdout",
          "text": [
            "[['Male' 19 19000]\n",
            " ['Male' 35 20000]\n",
            " ['Female' 26 43000]\n",
            " ['Female' 27 57000]]\n"
          ]
        }
      ]
    },
    {
      "cell_type": "code",
      "source": [
        "# Step 2 - Convert Gender to number\n",
        "labelEncoder_gender = LabelEncoder()\n",
        "X[:, 0] = labelEncoder_gender.fit_transform(X[:, 0])\n",
        "print(X[:4, :])"
      ],
      "metadata": {
        "colab": {
          "base_uri": "https://localhost:8080/"
        },
        "id": "qg2sowPRqA6z",
        "outputId": "39a6f58e-8a56-4d83-dc4c-e08e5a7e7e9f"
      },
      "execution_count": null,
      "outputs": [
        {
          "output_type": "stream",
          "name": "stdout",
          "text": [
            "[[1 19 19000]\n",
            " [1 35 20000]\n",
            " [0 26 43000]\n",
            " [0 27 57000]]\n"
          ]
        }
      ]
    },
    {
      "cell_type": "code",
      "source": [
        "# Optional - if you want to convert X to float data type\n",
        "X = np.vstack(X[:, :]).astype(float)\n",
        "print(X[:4, :])"
      ],
      "metadata": {
        "colab": {
          "base_uri": "https://localhost:8080/"
        },
        "id": "dhTIWkNlqekl",
        "outputId": "37bb3129-cb87-4b71-d976-385313527077"
      },
      "execution_count": null,
      "outputs": [
        {
          "output_type": "stream",
          "name": "stdout",
          "text": [
            "[[1.0e+00 1.9e+01 1.9e+04]\n",
            " [1.0e+00 3.5e+01 2.0e+04]\n",
            " [0.0e+00 2.6e+01 4.3e+04]\n",
            " [0.0e+00 2.7e+01 5.7e+04]]\n"
          ]
        }
      ]
    },
    {
      "cell_type": "code",
      "source": [
        "# Step 3 - Split Data into training and testing\n",
        "X_train, X_test, y_train, y_test = train_test_split(X, y, test_size=0.25, random_state=0)"
      ],
      "metadata": {
        "id": "G01QRByzq0O3"
      },
      "execution_count": null,
      "outputs": []
    },
    {
      "cell_type": "code",
      "source": [
        "# Step 4 - Feature Scaling\n",
        "sc = StandardScaler()\n",
        "X_train = sc.fit_transform(X_train)\n",
        "X_test = sc.transform(X_test)"
      ],
      "metadata": {
        "id": "Cgbx1bpfr_db"
      },
      "execution_count": null,
      "outputs": []
    },
    {
      "cell_type": "code",
      "source": [
        "# Step 5 - Logistic Regression Classifier\n",
        "classifier = LogisticRegression(random_state=0, solver=\"liblinear\")\n",
        "classifier.fit(X_train, y_train)"
      ],
      "metadata": {
        "colab": {
          "base_uri": "https://localhost:8080/",
          "height": 74
        },
        "id": "-GAg4J-csYta",
        "outputId": "01957242-6061-47e0-941b-0e730c4ff16c"
      },
      "execution_count": null,
      "outputs": [
        {
          "output_type": "execute_result",
          "data": {
            "text/plain": [
              "LogisticRegression(random_state=0, solver='liblinear')"
            ],
            "text/html": [
              "<style>#sk-container-id-2 {color: black;background-color: white;}#sk-container-id-2 pre{padding: 0;}#sk-container-id-2 div.sk-toggleable {background-color: white;}#sk-container-id-2 label.sk-toggleable__label {cursor: pointer;display: block;width: 100%;margin-bottom: 0;padding: 0.3em;box-sizing: border-box;text-align: center;}#sk-container-id-2 label.sk-toggleable__label-arrow:before {content: \"▸\";float: left;margin-right: 0.25em;color: #696969;}#sk-container-id-2 label.sk-toggleable__label-arrow:hover:before {color: black;}#sk-container-id-2 div.sk-estimator:hover label.sk-toggleable__label-arrow:before {color: black;}#sk-container-id-2 div.sk-toggleable__content {max-height: 0;max-width: 0;overflow: hidden;text-align: left;background-color: #f0f8ff;}#sk-container-id-2 div.sk-toggleable__content pre {margin: 0.2em;color: black;border-radius: 0.25em;background-color: #f0f8ff;}#sk-container-id-2 input.sk-toggleable__control:checked~div.sk-toggleable__content {max-height: 200px;max-width: 100%;overflow: auto;}#sk-container-id-2 input.sk-toggleable__control:checked~label.sk-toggleable__label-arrow:before {content: \"▾\";}#sk-container-id-2 div.sk-estimator input.sk-toggleable__control:checked~label.sk-toggleable__label {background-color: #d4ebff;}#sk-container-id-2 div.sk-label input.sk-toggleable__control:checked~label.sk-toggleable__label {background-color: #d4ebff;}#sk-container-id-2 input.sk-hidden--visually {border: 0;clip: rect(1px 1px 1px 1px);clip: rect(1px, 1px, 1px, 1px);height: 1px;margin: -1px;overflow: hidden;padding: 0;position: absolute;width: 1px;}#sk-container-id-2 div.sk-estimator {font-family: monospace;background-color: #f0f8ff;border: 1px dotted black;border-radius: 0.25em;box-sizing: border-box;margin-bottom: 0.5em;}#sk-container-id-2 div.sk-estimator:hover {background-color: #d4ebff;}#sk-container-id-2 div.sk-parallel-item::after {content: \"\";width: 100%;border-bottom: 1px solid gray;flex-grow: 1;}#sk-container-id-2 div.sk-label:hover label.sk-toggleable__label {background-color: #d4ebff;}#sk-container-id-2 div.sk-serial::before {content: \"\";position: absolute;border-left: 1px solid gray;box-sizing: border-box;top: 0;bottom: 0;left: 50%;z-index: 0;}#sk-container-id-2 div.sk-serial {display: flex;flex-direction: column;align-items: center;background-color: white;padding-right: 0.2em;padding-left: 0.2em;position: relative;}#sk-container-id-2 div.sk-item {position: relative;z-index: 1;}#sk-container-id-2 div.sk-parallel {display: flex;align-items: stretch;justify-content: center;background-color: white;position: relative;}#sk-container-id-2 div.sk-item::before, #sk-container-id-2 div.sk-parallel-item::before {content: \"\";position: absolute;border-left: 1px solid gray;box-sizing: border-box;top: 0;bottom: 0;left: 50%;z-index: -1;}#sk-container-id-2 div.sk-parallel-item {display: flex;flex-direction: column;z-index: 1;position: relative;background-color: white;}#sk-container-id-2 div.sk-parallel-item:first-child::after {align-self: flex-end;width: 50%;}#sk-container-id-2 div.sk-parallel-item:last-child::after {align-self: flex-start;width: 50%;}#sk-container-id-2 div.sk-parallel-item:only-child::after {width: 0;}#sk-container-id-2 div.sk-dashed-wrapped {border: 1px dashed gray;margin: 0 0.4em 0.5em 0.4em;box-sizing: border-box;padding-bottom: 0.4em;background-color: white;}#sk-container-id-2 div.sk-label label {font-family: monospace;font-weight: bold;display: inline-block;line-height: 1.2em;}#sk-container-id-2 div.sk-label-container {text-align: center;}#sk-container-id-2 div.sk-container {/* jupyter's `normalize.less` sets `[hidden] { display: none; }` but bootstrap.min.css set `[hidden] { display: none !important; }` so we also need the `!important` here to be able to override the default hidden behavior on the sphinx rendered scikit-learn.org. See: https://github.com/scikit-learn/scikit-learn/issues/21755 */display: inline-block !important;position: relative;}#sk-container-id-2 div.sk-text-repr-fallback {display: none;}</style><div id=\"sk-container-id-2\" class=\"sk-top-container\"><div class=\"sk-text-repr-fallback\"><pre>LogisticRegression(random_state=0, solver=&#x27;liblinear&#x27;)</pre><b>In a Jupyter environment, please rerun this cell to show the HTML representation or trust the notebook. <br />On GitHub, the HTML representation is unable to render, please try loading this page with nbviewer.org.</b></div><div class=\"sk-container\" hidden><div class=\"sk-item\"><div class=\"sk-estimator sk-toggleable\"><input class=\"sk-toggleable__control sk-hidden--visually\" id=\"sk-estimator-id-2\" type=\"checkbox\" checked><label for=\"sk-estimator-id-2\" class=\"sk-toggleable__label sk-toggleable__label-arrow\">LogisticRegression</label><div class=\"sk-toggleable__content\"><pre>LogisticRegression(random_state=0, solver=&#x27;liblinear&#x27;)</pre></div></div></div></div></div>"
            ]
          },
          "metadata": {},
          "execution_count": 25
        }
      ]
    },
    {
      "cell_type": "code",
      "source": [
        "# Step 6 - Predict\n",
        "y_pred = classifier.predict(X_test)"
      ],
      "metadata": {
        "id": "LjAEEZXJspCK"
      },
      "execution_count": null,
      "outputs": []
    },
    {
      "cell_type": "code",
      "source": [
        "# Step 7 - Confusion Matrix\n",
        "from sklearn import metrics\n",
        "print(metrics.confusion_matrix(y_test, y_pred))\n",
        "print(\"Accuracy socre:\", metrics.accuracy_score(y_test, y_pred))\n",
        "print(\"Precisionn score:\", metrics.precision_score(y_test, y_pred))\n",
        "print(\"recall score:\", metrics.recall_score(y_test, y_pred))"
      ],
      "metadata": {
        "id": "2-6Fzrvus1PI",
        "colab": {
          "base_uri": "https://localhost:8080/"
        },
        "outputId": "c88436b6-86ce-4430-cb21-d0a1ccdb2103"
      },
      "execution_count": null,
      "outputs": [
        {
          "output_type": "stream",
          "name": "stdout",
          "text": [
            "[[65  3]\n",
            " [ 6 26]]\n",
            "Accuracy socre: 0.91\n",
            "Precisionn score: 0.896551724137931\n",
            "recall score: 0.8125\n"
          ]
        }
      ]
    },
    {
      "cell_type": "code",
      "source": [
        "# Step 8 - Make New Prediction\n",
        "x1 = sc.transform([[1, 21, 40000]])\n",
        "x2 = sc.transform([[1, 21, 80000]])\n",
        "x3 = sc.transform([[0, 21, 40000]])\n",
        "x4 = sc.transform([[0, 21, 80000]])\n",
        "x5 = sc.transform([[1, 41, 40000]])\n",
        "x6 = sc.transform([[1, 41, 80000]])\n",
        "x7 = sc.transform([[0, 41, 40000]])\n",
        "x8 = sc.transform([[1, 68, 80000]])\n",
        "print(\"Ex: Male aged 21 making 40K will buy iphone:\", classifier.predict(x1))"
      ],
      "metadata": {
        "colab": {
          "base_uri": "https://localhost:8080/"
        },
        "id": "qntGBTKbrn6j",
        "outputId": "5c5b8101-a513-4ac2-f74e-e559e81647fe"
      },
      "execution_count": null,
      "outputs": [
        {
          "output_type": "stream",
          "name": "stdout",
          "text": [
            "Ex: Male aged 21 making 40K will buy iphone: [0]\n"
          ]
        }
      ]
    },
    {
      "cell_type": "markdown",
      "source": [
        "# Synthetic Example"
      ],
      "metadata": {
        "id": "zu6C-M9YzYZP"
      }
    },
    {
      "cell_type": "code",
      "source": [
        "# Step 1 - Import required modules\n",
        "from sklearn.datasets import make_classification\n",
        "import matplotlib.pyplot as plt\n",
        "from sklearn.linear_model import LogisticRegression\n",
        "from sklearn.model_selection import train_test_split\n",
        "from sklearn.metrics import confusion_matrix, ConfusionMatrixDisplay#, plot_confusion_matrix\n",
        "import pandas as pd"
      ],
      "metadata": {
        "id": "4pM7uHKEzd46"
      },
      "execution_count": 8,
      "outputs": []
    },
    {
      "cell_type": "code",
      "source": [
        "# Step 2 - Generate the dataset\n",
        "X, y = make_classification(\n",
        "    n_samples=100,\n",
        "    n_features=1,\n",
        "    n_classes=2,\n",
        "    n_clusters_per_class=1,\n",
        "    flip_y=0.03,\n",
        "    n_informative=1,\n",
        "    n_redundant=0,\n",
        "    n_repeated=0\n",
        ")\n",
        "print(X)\n",
        "print(y)"
      ],
      "metadata": {
        "id": "1Up9q2hOKAKV",
        "colab": {
          "base_uri": "https://localhost:8080/"
        },
        "outputId": "e7b62665-797c-4ba7-d5f1-481fcb934053"
      },
      "execution_count": 11,
      "outputs": [
        {
          "output_type": "stream",
          "name": "stdout",
          "text": [
            "[[-0.24880343]\n",
            " [-1.09843092]\n",
            " [-1.74527053]\n",
            " [-1.12567541]\n",
            " [-0.38369952]\n",
            " [-0.07793253]\n",
            " [ 0.9894434 ]\n",
            " [-0.75419153]\n",
            " [-1.34600052]\n",
            " [-0.4504149 ]\n",
            " [ 2.3231755 ]\n",
            " [-1.48342873]\n",
            " [-0.97685046]\n",
            " [-0.66689516]\n",
            " [ 2.41577001]\n",
            " [ 1.09178948]\n",
            " [ 1.50994311]\n",
            " [ 1.1361428 ]\n",
            " [ 2.48447901]\n",
            " [-1.86826541]\n",
            " [-1.85676294]\n",
            " [-2.20037076]\n",
            " [-0.40794499]\n",
            " [-1.13776173]\n",
            " [ 0.20429294]\n",
            " [-1.59209308]\n",
            " [ 0.76428923]\n",
            " [-1.09000692]\n",
            " [ 1.87030087]\n",
            " [ 1.5243197 ]\n",
            " [ 1.8521359 ]\n",
            " [-0.89678045]\n",
            " [ 0.51339488]\n",
            " [-0.39579829]\n",
            " [-1.0666602 ]\n",
            " [ 0.91977425]\n",
            " [ 1.26786591]\n",
            " [ 1.68648484]\n",
            " [ 1.48357451]\n",
            " [-0.33575793]\n",
            " [-1.26614411]\n",
            " [ 1.17586346]\n",
            " [-0.87383547]\n",
            " [ 1.42333474]\n",
            " [-0.84075703]\n",
            " [-1.10762407]\n",
            " [-1.12609209]\n",
            " [ 1.03552243]\n",
            " [ 1.96383951]\n",
            " [ 0.98878767]\n",
            " [ 0.75935737]\n",
            " [-0.38064323]\n",
            " [-0.84350841]\n",
            " [ 0.68208098]\n",
            " [-1.48045321]\n",
            " [ 1.81579789]\n",
            " [-1.62052339]\n",
            " [-0.35554633]\n",
            " [-0.44983599]\n",
            " [ 2.74692257]\n",
            " [-0.09980206]\n",
            " [ 0.95593915]\n",
            " [ 0.91841164]\n",
            " [-1.16945371]\n",
            " [ 0.15213117]\n",
            " [-0.88885893]\n",
            " [-0.92810773]\n",
            " [ 1.62031354]\n",
            " [-1.1946499 ]\n",
            " [-0.29044165]\n",
            " [-1.20419418]\n",
            " [ 2.17074555]\n",
            " [ 2.24575624]\n",
            " [-1.22666062]\n",
            " [ 0.06517951]\n",
            " [ 0.14456017]\n",
            " [ 0.02811399]\n",
            " [-0.61500756]\n",
            " [ 1.08878002]\n",
            " [-0.10981491]\n",
            " [-1.42417163]\n",
            " [-0.37002572]\n",
            " [-0.78905206]\n",
            " [ 1.75474899]\n",
            " [-1.84855295]\n",
            " [-1.37451953]\n",
            " [ 0.14872038]\n",
            " [-0.7476094 ]\n",
            " [-1.72190605]\n",
            " [ 0.05521701]\n",
            " [-1.99376   ]\n",
            " [ 0.98495129]\n",
            " [-0.98193231]\n",
            " [ 2.24830164]\n",
            " [-0.88298667]\n",
            " [ 1.43252596]\n",
            " [ 0.9560934 ]\n",
            " [-0.65048634]\n",
            " [-0.20792022]\n",
            " [-1.13148742]]\n",
            "[0 0 0 0 1 1 1 0 0 0 1 0 0 0 1 1 1 1 1 0 0 0 1 0 1 0 1 0 1 1 1 0 1 0 0 1 1\n",
            " 1 1 1 0 1 0 1 0 0 0 1 1 1 1 0 0 1 1 1 0 1 0 1 1 1 1 0 1 1 0 1 0 0 0 1 1 0\n",
            " 1 0 1 0 1 1 0 0 0 1 0 0 0 0 0 1 0 1 0 1 0 1 1 0 1 0]\n"
          ]
        }
      ]
    },
    {
      "cell_type": "code",
      "source": [
        "# Step 3 - Visualize te Data\n",
        "# Creating a simple scatter plot to see what data looks like\n",
        "plt.scatter(X, y, c=y, cmap=\"rainbow\")\n",
        "plt.title(\"Scatter Plot of Logistic Regression\")\n",
        "plt.show()"
      ],
      "metadata": {
        "colab": {
          "base_uri": "https://localhost:8080/",
          "height": 452
        },
        "id": "tYZgr97TTiXg",
        "outputId": "bf2322ab-2327-43b0-f716-a3ec009d0de0"
      },
      "execution_count": 12,
      "outputs": [
        {
          "output_type": "display_data",
          "data": {
            "text/plain": [
              "<Figure size 640x480 with 1 Axes>"
            ],
            "image/png": "[encoded data removed]"
          },
          "metadata": {}
        }
      ]
    },
    {
      "cell_type": "code",
      "source": [
        "# Step 4 - Split the Dataset\n",
        "X_train, X_test, y_train, y_test = train_test_split(X, y, random_state=1)"
      ],
      "metadata": {
        "id": "xiS8tgBXWi-s"
      },
      "execution_count": 13,
      "outputs": []
    },
    {
      "cell_type": "code",
      "source": [
        "# Step 5 - Perform Logistic Regression\n",
        "log_reg = LogisticRegression()\n",
        "log_reg.fit(X_train, y_train)\n",
        "# logistic regression coefficient and intercept\n",
        "print(log_reg.coef_) #w1\n",
        "print(log_reg.intercept_) #w0"
      ],
      "metadata": {
        "colab": {
          "base_uri": "https://localhost:8080/"
        },
        "id": "VIGP0sNgXe-5",
        "outputId": "c57bc622-90d6-429d-cd94-87b82c87fb6e"
      },
      "execution_count": 14,
      "outputs": [
        {
          "output_type": "stream",
          "name": "stdout",
          "text": [
            "[[2.4081317]]\n",
            "[0.70393417]\n"
          ]
        }
      ]
    },
    {
      "cell_type": "code",
      "source": [
        "# Step 6 - Make prediction using the model\n",
        "y_pred = log_reg.predict(X_test)"
      ],
      "metadata": {
        "id": "30Ivc7gRYQoZ"
      },
      "execution_count": 15,
      "outputs": []
    },
    {
      "cell_type": "code",
      "source": [
        "# Step 6 - Display the Confusion matrix\n",
        "conf_mat = confusion_matrix(y_test, y_pred)\n",
        "print(conf_mat)\n",
        "# True Positive (upper-left) - Number of positives we predicted correctly\n",
        "# True Negative (lower-right) - Number of negatives we predicted correctly\n",
        "# False Positive (top-right) - Number of positives predicted incorrectly\n",
        "# False Negative (lower-left) - Number of negatives predicted incorrectly"
      ],
      "metadata": {
        "colab": {
          "base_uri": "https://localhost:8080/"
        },
        "id": "nQMLRjJkZSs0",
        "outputId": "5355a27c-5669-416b-c508-5d7da3842d93"
      },
      "execution_count": 19,
      "outputs": [
        {
          "output_type": "stream",
          "name": "stdout",
          "text": [
            "[[15  1]\n",
            " [ 2  7]]\n"
          ]
        }
      ]
    },
    {
      "cell_type": "code",
      "source": [
        "ConfusionMatrixDisplay(conf_mat).plot()"
      ],
      "metadata": {
        "colab": {
          "base_uri": "https://localhost:8080/",
          "height": 466
        },
        "id": "FgeTSWTyaNqO",
        "outputId": "e3cab09c-6a1f-436c-91df-42d46835bdb2"
      },
      "execution_count": 25,
      "outputs": [
        {
          "output_type": "execute_result",
          "data": {
            "text/plain": [
              "<sklearn.metrics._plot.confusion_matrix.ConfusionMatrixDisplay at 0x7fcf276a3d00>"
            ]
          },
          "metadata": {},
          "execution_count": 25
        },
        {
          "output_type": "display_data",
          "data": {
            "text/plain": [
              "<Figure size 640x480 with 2 Axes>"
            ],
            "image/png": "[encoded data removed]"
          },
          "metadata": {}
        }
      ]
    },
    {
      "cell_type": "markdown",
      "source": [
        "# Logistic Regression (Titanic_pydataset)"
      ],
      "metadata": {
        "id": "KLeSjRU-bgIE"
      }
    },
    {
      "cell_type": "code",
      "source": [
        "# Import Statements"
      ],
      "metadata": {
        "id": "wp-WggesbnSv"
      },
      "execution_count": null,
      "outputs": []
    }
  ]
}