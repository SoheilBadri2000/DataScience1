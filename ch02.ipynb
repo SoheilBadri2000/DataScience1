{
  "nbformat": 4,
  "nbformat_minor": 0,
  "metadata": {
    "colab": {
      "provenance": [],
      "authorship_tag": "ABX9TyPOjAIq/kg4ww3YSfb8CifA",
      "include_colab_link": true
    },
    "kernelspec": {
      "name": "python3",
      "display_name": "Python 3"
    },
    "language_info": {
      "name": "python"
    }
  },
  "cells": [
    {
      "cell_type": "markdown",
      "metadata": {
        "id": "view-in-github",
        "colab_type": "text"
      },
      "source": [
        "<a href=\"https://colab.research.google.com/github/SoheilBadri2000/DataScience1/blob/main/ch02.ipynb\" target=\"_parent\"><img src=\"https://colab.research.google.com/assets/colab-badge.svg\" alt=\"Open In Colab\"/></a>"
      ]
    },
    {
      "cell_type": "code",
      "source": [
        "import numpy as np"
      ],
      "metadata": {
        "id": "2H9qz-ITdOLQ"
      },
      "execution_count": 1,
      "outputs": []
    },
    {
      "cell_type": "code",
      "source": [
        "v = np.array([[1,2,3]])"
      ],
      "metadata": {
        "id": "XHVVceO4ooFC"
      },
      "execution_count": 2,
      "outputs": []
    },
    {
      "cell_type": "code",
      "source": [
        "v"
      ],
      "metadata": {
        "id": "ACYI99MKpTha",
        "colab": {
          "base_uri": "https://localhost:8080/"
        },
        "outputId": "faaff428-c57f-4ece-9c44-cd326c8f764c"
      },
      "execution_count": 3,
      "outputs": [
        {
          "output_type": "execute_result",
          "data": {
            "text/plain": [
              "array([[1, 2, 3]])"
            ]
          },
          "metadata": {},
          "execution_count": 3
        }
      ]
    },
    {
      "cell_type": "code",
      "source": [
        "v.T"
      ],
      "metadata": {
        "colab": {
          "base_uri": "https://localhost:8080/"
        },
        "id": "kgw_LIHxq9yg",
        "outputId": "44aecfac-14b8-4af1-f4ab-c01c0c39ea83"
      },
      "execution_count": 4,
      "outputs": [
        {
          "output_type": "execute_result",
          "data": {
            "text/plain": [
              "array([[1],\n",
              "       [2],\n",
              "       [3]])"
            ]
          },
          "metadata": {},
          "execution_count": 4
        }
      ]
    },
    {
      "cell_type": "code",
      "source": [
        "v = np.array([1,2,3,4,6,8,9])\n",
        "v_dim = len(v) # 7\n",
        "v_mag = np.linalg.norm(v)\n",
        "v_mag # norm ---  ||v|| = 14.52583904633395"
      ],
      "metadata": {
        "colab": {
          "base_uri": "https://localhost:8080/"
        },
        "id": "kAQZ9Evqq-um",
        "outputId": "6da15ad1-6df8-419b-ffc0-a4643f8346c1"
      },
      "execution_count": 8,
      "outputs": [
        {
          "output_type": "execute_result",
          "data": {
            "text/plain": [
              "14.52583904633395"
            ]
          },
          "metadata": {},
          "execution_count": 8
        }
      ]
    },
    {
      "cell_type": "code",
      "source": [
        "v_cap = (1/v_mag)*v\n",
        "v_cap"
      ],
      "metadata": {
        "colab": {
          "base_uri": "https://localhost:8080/"
        },
        "id": "cEvwzPPIrS0M",
        "outputId": "ac7f4728-7848-4a14-d66c-825e38c55093"
      },
      "execution_count": 9,
      "outputs": [
        {
          "output_type": "execute_result",
          "data": {
            "text/plain": [
              "array([0.06884284, 0.13768568, 0.20652852, 0.27537136, 0.41305703,\n",
              "       0.55074271, 0.61958555])"
            ]
          },
          "metadata": {},
          "execution_count": 9
        }
      ]
    },
    {
      "cell_type": "code",
      "source": [
        "# dot product (aTb)\n",
        "v = np.array([1,2,3,4])\n",
        "w = np.array([5,6,7,8])\n",
        "np.dot(v,w)"
      ],
      "metadata": {
        "colab": {
          "base_uri": "https://localhost:8080/"
        },
        "id": "_VCb02mCsZc_",
        "outputId": "a3c55e75-1b05-4f88-8580-45aca95e5949"
      },
      "execution_count": 10,
      "outputs": [
        {
          "output_type": "execute_result",
          "data": {
            "text/plain": [
              "70"
            ]
          },
          "metadata": {},
          "execution_count": 10
        }
      ]
    },
    {
      "cell_type": "code",
      "source": [
        "np.dot(10*v,w)"
      ],
      "metadata": {
        "colab": {
          "base_uri": "https://localhost:8080/"
        },
        "id": "XseRY2fyuGqB",
        "outputId": "7b2b9197-5509-4016-c4da-c1b5ebcd0e98"
      },
      "execution_count": 11,
      "outputs": [
        {
          "output_type": "execute_result",
          "data": {
            "text/plain": [
              "700"
            ]
          },
          "metadata": {},
          "execution_count": 11
        }
      ]
    },
    {
      "cell_type": "code",
      "source": [
        "np.dot(-10*v,w)"
      ],
      "metadata": {
        "colab": {
          "base_uri": "https://localhost:8080/"
        },
        "id": "dOkBi8g_uQxG",
        "outputId": "8547e306-c2fa-4e4c-cc2c-282a05c8ae13"
      },
      "execution_count": 12,
      "outputs": [
        {
          "output_type": "execute_result",
          "data": {
            "text/plain": [
              "-700"
            ]
          },
          "metadata": {},
          "execution_count": 12
        }
      ]
    },
    {
      "cell_type": "code",
      "source": [
        "# aT(b+c) = aTb + aTc\n",
        "a = np.array([0,1,2])\n",
        "b = np.array([3,5,7])\n",
        "c = np.array([13,21,34])\n",
        "\n",
        "res = np.dot(a, b+c)"
      ],
      "metadata": {
        "id": "VwD0tIsFuWlJ"
      },
      "execution_count": null,
      "outputs": []
    }
  ]
}