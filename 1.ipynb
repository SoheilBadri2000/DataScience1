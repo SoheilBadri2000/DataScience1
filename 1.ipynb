{
  "nbformat": 4,
  "nbformat_minor": 0,
  "metadata": {
    "colab": {
      "provenance": [],
      "authorship_tag": "ABX9TyP/Zf+KFRGxuTetSNEJNUdq",
      "include_colab_link": true
    },
    "kernelspec": {
      "name": "python3",
      "display_name": "Python 3"
    },
    "language_info": {
      "name": "python"
    }
  },
  "cells": [
    {
      "cell_type": "markdown",
      "metadata": {
        "id": "view-in-github",
        "colab_type": "text"
      },
      "source": [
        "<a href=\"https://colab.research.google.com/github/SoheilBadri2000/DataScience1/blob/main/1.ipynb\" target=\"_parent\"><img src=\"https://colab.research.google.com/assets/colab-badge.svg\" alt=\"Open In Colab\"/></a>"
      ]
    },
    {
      "cell_type": "code",
      "execution_count": 10,
      "metadata": {
        "colab": {
          "base_uri": "https://localhost:8080/"
        },
        "id": "VW1DzQs2dZ0z",
        "outputId": "69e649b2-f4a5-4686-fba2-536488f74d72"
      },
      "outputs": [
        {
          "output_type": "stream",
          "name": "stdout",
          "text": [
            "0.006935834884643555\n",
            "0.0014178752899169922\n"
          ]
        }
      ],
      "source": [
        "import numpy as np\n",
        "import time # first solution\n",
        "import timeit # third solution\n",
        "\n",
        "# Create a list with 1 million items\n",
        "my_list = list(range(1, 1_000_000))\n",
        "# Create a numpy list with 1 million items\n",
        "my_np_list = np.array(my_list)\n",
        "\n",
        "# Calculate sum (and time)\n",
        "start_time = time.time()\n",
        "sum_list = sum(my_list)\n",
        "end_time = time.time()\n",
        "print(end_time - start_time)\n",
        "\n",
        "start_time = time.time()\n",
        "sum_array = np.sum(my_np_list)\n",
        "end_time = time.time()\n",
        "print(end_time - start_time)\n"
      ]
    },
    {
      "cell_type": "code",
      "source": [
        "# magic function --> second solution\n",
        "%timeit sum_list = sum(my_list)\n",
        "%timeit sum_array = np.sum(my_np_list)"
      ],
      "metadata": {
        "colab": {
          "base_uri": "https://localhost:8080/"
        },
        "id": "5lz7RqlqhUnw",
        "outputId": "c3a2cf14-79ce-4a41-aeaa-d9184b3ed973"
      },
      "execution_count": 21,
      "outputs": [
        {
          "output_type": "stream",
          "name": "stdout",
          "text": [
            "8.07 ms ± 1.82 ms per loop (mean ± std. dev. of 7 runs, 100 loops each)\n",
            "728 µs ± 6.67 µs per loop (mean ± std. dev. of 7 runs, 1000 loops each)\n"
          ]
        }
      ]
    },
    {
      "cell_type": "code",
      "source": [],
      "metadata": {
        "id": "KJ0thOzuhrHT"
      },
      "execution_count": null,
      "outputs": []
    }
  ]
}